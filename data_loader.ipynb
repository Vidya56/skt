{
 "cells": [
  {
   "cell_type": "code",
   "execution_count": 1,
   "metadata": {
    "collapsed": true
   },
   "outputs": [],
   "source": [
    "import os\n",
    "import numpy as np\n",
    "import pandas as pd\n",
    "from random import shuffle\n",
    "from tqdm import tqdm"
   ]
  },
  {
   "cell_type": "code",
   "execution_count": 2,
   "metadata": {
    "collapsed": true
   },
   "outputs": [],
   "source": [
    "class SKTDataLoader(object):\n",
    "    \"\"\"\n",
    "        What it does:\n",
    "            - tokenizes the entire dataset and saves\n",
    "            - creates the vocabulary of word in data\n",
    "            - indexes the words in vocabulary\n",
    "            - splits data into train, valid, test sets\n",
    "            - can return batch_data of specified type(train/valid/test)\n",
    "            \n",
    "        TODO: Replace less frequent words with a special word and if new word during test => treat it as the special word\n",
    "    \"\"\"\n",
    "    def __init__(self, input_file_path, output_file_path, batch_size = 64, seq_length = 150, split = [0.70, 0.15, 0.15]):\n",
    "        self.input_file_path = input_file_path\n",
    "        self.output_file_path = output_file_path\n",
    "        self.base_path = os.path.dirname(self.input_file_path) + '/' + os.path.basename(self.input_file_path).split('.')[0] \n",
    "        \n",
    "        self.input_data = open(input_file_path, 'r').readlines()\n",
    "        self.output_data = open(output_file_path, 'r').readlines()\n",
    "       \n",
    "        self.train_index = 0\n",
    "        self.cur_index = {}\n",
    "        self.cur_index['train'] = 0\n",
    "        self.cur_index['valid'] = 0\n",
    "        self.cur_index['test'] = 0\n",
    "        \n",
    "        self.batch_size = batch_size\n",
    "        self.seq_length = seq_length\n",
    "        self.split = split\n",
    "        \n",
    "        self.complete_data = self.get_complete_data()\n",
    "        \n",
    "        # Get vocab, idx2word, word2idx i.e., all index all words in the data\n",
    "        self.vocab_dict = self.vocab()\n",
    "        self.idx2word, self.word2idx = self.index_vocab()\n",
    "        \n",
    "        self.go_index = len(self.word2idx) # Index of the word that is to be prepended to make sentences = 'seq_length'\n",
    "        self.vocab_size = len(self.vocab_dict) + 1 # 1 for filling the sequences which are smaller than 'seq_length'\n",
    "        \n",
    "        self.data = self.make_data() # Creates a list self.data which has data which statisfies seq_length condition\n",
    "        self.data_size = len(self.data)\n",
    "        self.data_set = self.split_data() # Splits data into train, valid, test sets and creates a dict self.data_set\n",
    "        \n",
    "        self.train_size = len(self.data_set['train'])\n",
    "        self.valid_size = len(self.data_set['valid'])\n",
    "        self.test_size = len(self.data_set['test'])\n",
    "        \n",
    "    def get_complete_data(self):\n",
    "        \"\"\"\n",
    "            Tokenizes every question and save the entire data.\n",
    "        \"\"\"\n",
    "        self.data_path = self.base_path + '_data.npy' \n",
    "        print self.data_path\n",
    "        if os.path.isfile(self.data_path): # If the indices file is present => load \n",
    "            complete_data = np.load(self.data_path)\n",
    "            print \"Loaded complete data\"\n",
    "            return complete_data\n",
    "            \n",
    "        complete_data = []  \n",
    "        for inp, outp in tqdm(zip(self.input_data, self.output_data)):\n",
    "            inp = inp.split()\n",
    "            outp = outp.split()\n",
    "            complete_data.append([inp, outp])\n",
    "        np.save(self.data_path, complete_data)\n",
    "        print \"Saved and loaded complete data\"\n",
    "        return complete_data\n",
    "        \n",
    "    def index_vocab(self):\n",
    "        \"\"\"\n",
    "            Makes dicts(idx2word, word2idx) from vocab_dict\n",
    "        \"\"\"\n",
    "        idx2word = {}\n",
    "        word2idx = {}\n",
    "        word2idx_path = self.base_path + '_word2idx.npy'\n",
    "        idx2word_path = self.base_path + '_idx2word.npy'\n",
    "        \n",
    "        print word2idx_path\n",
    "        print idx2word_path\n",
    "        \n",
    "        if os.path.isfile(word2idx_path) and os.path.isfile(idx2word_path): # If the vocab file is present => load and return only list of words\n",
    "            word2idx = np.load(word2idx_path).item()\n",
    "            idx2word = np.load(idx2word_path).item()\n",
    "            print \"Loaded word2idx and idx2word\"\n",
    "            return idx2word, word2idx\n",
    "        \n",
    "        for i, word in tqdm(enumerate(self.vocab_dict)):\n",
    "            word2idx[word] = i\n",
    "            idx2word[i] = word\n",
    "        np.save(word2idx_path, word2idx)\n",
    "        np.save(idx2word_path, idx2word)\n",
    "        print \"Saved and loaded word2idx and idx2word\"\n",
    "        return idx2word, word2idx\n",
    "                \n",
    "    def vocab(self):\n",
    "        \"\"\"\n",
    "            Creates a dict vocab, which has all words and their occurence counts.\n",
    "            Returns the list of all words in the dataset in alphabetical order.\n",
    "        \"\"\"\n",
    "        self.vocab_path = self.base_path + '_vocab.npy'\n",
    "        if os.path.isfile(self.vocab_path): # If the vocab file is present => load and return only list of words\n",
    "            vocab = np.load(self.vocab_path)\n",
    "            vocab_list = vocab.item().keys()\n",
    "            vocab_list.sort()\n",
    "            print \"Loaded vocab\"\n",
    "            return vocab_list\n",
    "        vocab = {}\n",
    "        for inp, outp in tqdm(self.complete_data): # uses all the data to create vocab\n",
    "            words = inp + outp\n",
    "            for word in words:\n",
    "                if word in vocab.keys():\n",
    "                    vocab[word] += 1\n",
    "                else:\n",
    "                    vocab[word] = 1\n",
    "        np.save(self.vocab_path, vocab)\n",
    "        vocab_list = vocab.keys()\n",
    "        vocab_list.sort()\n",
    "        print \"Saved and Loaded vocab\"\n",
    "        return vocab_list\n",
    "    \n",
    "    def make_data(self):\n",
    "        \"\"\"\n",
    "            Uses the complete_data and samples data that statisfies seq_length\n",
    "        \"\"\"\n",
    "        data = []\n",
    "        for inp, outp in self.complete_data:\n",
    "            if(len(inp) <= self.seq_length  and len(outp) <= self.seq_length):\n",
    "                data.append([inp, outp])\n",
    "        return data\n",
    "    \n",
    "    def split_data(self):\n",
    "        \"\"\"\n",
    "            Splits data into train, valid, test sets\n",
    "        \"\"\"\n",
    "        # Split the data into train, valid, test using a random data_indices\n",
    "        self.data_indices_path = self.base_path + '_data_indices.npy'\n",
    "        if os.path.isfile(self.data_indices_path): # If the indices file is present => load \n",
    "            self.data_indices = np.load(self.data_indices_path)\n",
    "        else: # Else create indices now and store\n",
    "            self.data_indices = range(self.data_size)\n",
    "            shuffle(self.data_indices)\n",
    "            np.save(self.data_indices_path, self.data_indices)\n",
    "            \n",
    "        # Splitting indices and making train, valid, test data according to their ratio\n",
    "        self.train_indices = self.data_indices[:int(self.data_size*self.split[0])]\n",
    "        self.valid_indices = self.data_indices[int(self.data_size*self.split[0]):int(self.data_size*(self.split[0] + self.split[1]))]\n",
    "        self.test_indices = self.data_indices[int(self.data_size*(self.split[0] + self.split[1])):int(self.data_size*(self.split[0] + self.split[1] + self.split[2]))]\n",
    "               \n",
    "        self.train_data = [self.data[x] for x in self.train_indices]\n",
    "        self.valid_data = [self.data[x] for x in self.valid_indices]\n",
    "        self.test_data = [self.data[x] for x in self.test_indices]\n",
    "        \n",
    "        print \"Created dataset\"\n",
    "        return {'train': self.train_data, 'valid': self.valid_data, 'test': self.test_data}\n",
    "                \n",
    "    def reset_index(self, data_type='train'):\n",
    "        self.cur_index[data_type] = 0\n",
    "        \n",
    "    def decode_sentence(self, list_of_ids):\n",
    "        return [self.idx2word[x] for x in list_of_ids]\n",
    "        \n",
    "    def encode_sentence(self, sentence):\n",
    "        \"\"\"\n",
    "            Takes in a list of words and encodes them using word2id.\n",
    "        \"\"\"\n",
    "        return self.prepend_sentence([self.word2idx[x] for x in sentence])\n",
    "    \n",
    "    def encode_batch(self, batch_data):\n",
    "        batch_inp = []\n",
    "        batch_outp = []\n",
    "        for pair in batch_data:\n",
    "            batch_inp.append(self.encode_sentence(pair[0]))\n",
    "            batch_outp.append(self.encode_sentence(pair[1]))\n",
    "        return batch_inp, batch_outp\n",
    "    \n",
    "    def prepend_sentence(self, list_of_ids):\n",
    "        \"\"\"\n",
    "            Prepends a list of ids with a id that is not present.\n",
    "        \"\"\"\n",
    "        return [self.go_index]*(self.seq_length - len(list_of_ids)) + list_of_ids\n",
    "    \n",
    "    def next_batch(self, data_type='train'):\n",
    "        \"\"\"\n",
    "            Returns batch_data of size 'batch_size' and of corresponding 'data_type'\n",
    "        \"\"\"\n",
    "        stop = False\n",
    "        if(self.cur_index[data_type] + self.batch_size > self.data_size):\n",
    "            self.reset_index(data_type = data_type)\n",
    "            stop = True\n",
    "        batch_data = self.data_set[data_type][self.cur_index[data_type] : self.cur_index[data_type] + self.batch_size]\n",
    "        batch_data = self.encode_batch(batch_data)\n",
    "        \n",
    "        return np.swapaxes(np.array(batch_data[0]), 0, 1), np.swapaxes(np.array(batch_data[1]), 0, 1)\n"
   ]
  },
  {
   "cell_type": "code",
   "execution_count": 3,
   "metadata": {
    "collapsed": false,
    "scrolled": false
   },
   "outputs": [
    {
     "name": "stdout",
     "output_type": "stream",
     "text": [
      "data/input_complete_split_data.npy\n"
     ]
    },
    {
     "name": "stderr",
     "output_type": "stream",
     "text": [
      " 29%|██▊       | 126658/441722 [00:01<00:03, 96801.83it/s]\n"
     ]
    },
    {
     "ename": "KeyboardInterrupt",
     "evalue": "",
     "output_type": "error",
     "traceback": [
      "\u001b[0;31m\u001b[0m",
      "\u001b[0;31mKeyboardInterrupt\u001b[0mTraceback (most recent call last)",
      "\u001b[0;32m<ipython-input-3-ddf9938bccdd>\u001b[0m in \u001b[0;36m<module>\u001b[0;34m()\u001b[0m\n\u001b[0;32m----> 1\u001b[0;31m \u001b[0mdata_loader\u001b[0m \u001b[0;34m=\u001b[0m \u001b[0mSKTDataLoader\u001b[0m\u001b[0;34m(\u001b[0m\u001b[0;34m'data/input_complete_split.txt'\u001b[0m\u001b[0;34m,\u001b[0m\u001b[0;34m'data/output_complete_split.txt'\u001b[0m\u001b[0;34m,\u001b[0m\u001b[0mbatch_size\u001b[0m\u001b[0;34m=\u001b[0m\u001b[0;36m3\u001b[0m\u001b[0;34m,\u001b[0m\u001b[0mseq_length\u001b[0m\u001b[0;34m=\u001b[0m\u001b[0;36m10\u001b[0m\u001b[0;34m)\u001b[0m\u001b[0;34m\u001b[0m\u001b[0m\n\u001b[0m",
      "\u001b[0;32m<ipython-input-2-e26e04211399>\u001b[0m in \u001b[0;36m__init__\u001b[0;34m(self, input_file_path, output_file_path, batch_size, seq_length, split)\u001b[0m\n\u001b[1;32m     28\u001b[0m         \u001b[0mself\u001b[0m\u001b[0;34m.\u001b[0m\u001b[0msplit\u001b[0m \u001b[0;34m=\u001b[0m \u001b[0msplit\u001b[0m\u001b[0;34m\u001b[0m\u001b[0m\n\u001b[1;32m     29\u001b[0m \u001b[0;34m\u001b[0m\u001b[0m\n\u001b[0;32m---> 30\u001b[0;31m         \u001b[0mself\u001b[0m\u001b[0;34m.\u001b[0m\u001b[0mcomplete_data\u001b[0m \u001b[0;34m=\u001b[0m \u001b[0mself\u001b[0m\u001b[0;34m.\u001b[0m\u001b[0mget_complete_data\u001b[0m\u001b[0;34m(\u001b[0m\u001b[0;34m)\u001b[0m\u001b[0;34m\u001b[0m\u001b[0m\n\u001b[0m\u001b[1;32m     31\u001b[0m \u001b[0;34m\u001b[0m\u001b[0m\n\u001b[1;32m     32\u001b[0m         \u001b[0;31m# Get vocab, idx2word, word2idx i.e., all index all words in the data\u001b[0m\u001b[0;34m\u001b[0m\u001b[0;34m\u001b[0m\u001b[0m\n",
      "\u001b[0;32m<ipython-input-2-e26e04211399>\u001b[0m in \u001b[0;36mget_complete_data\u001b[0;34m(self)\u001b[0m\n\u001b[1;32m     59\u001b[0m         \u001b[0;32mfor\u001b[0m \u001b[0minp\u001b[0m\u001b[0;34m,\u001b[0m \u001b[0moutp\u001b[0m \u001b[0;32min\u001b[0m \u001b[0mtqdm\u001b[0m\u001b[0;34m(\u001b[0m\u001b[0mzip\u001b[0m\u001b[0;34m(\u001b[0m\u001b[0mself\u001b[0m\u001b[0;34m.\u001b[0m\u001b[0minput_data\u001b[0m\u001b[0;34m,\u001b[0m \u001b[0mself\u001b[0m\u001b[0;34m.\u001b[0m\u001b[0moutput_data\u001b[0m\u001b[0;34m)\u001b[0m\u001b[0;34m)\u001b[0m\u001b[0;34m:\u001b[0m\u001b[0;34m\u001b[0m\u001b[0m\n\u001b[1;32m     60\u001b[0m             \u001b[0minp\u001b[0m \u001b[0;34m=\u001b[0m \u001b[0minp\u001b[0m\u001b[0;34m.\u001b[0m\u001b[0msplit\u001b[0m\u001b[0;34m(\u001b[0m\u001b[0;34m)\u001b[0m\u001b[0;34m\u001b[0m\u001b[0m\n\u001b[0;32m---> 61\u001b[0;31m             \u001b[0moutp\u001b[0m \u001b[0;34m=\u001b[0m \u001b[0moutp\u001b[0m\u001b[0;34m.\u001b[0m\u001b[0msplit\u001b[0m\u001b[0;34m(\u001b[0m\u001b[0;34m)\u001b[0m\u001b[0;34m\u001b[0m\u001b[0m\n\u001b[0m\u001b[1;32m     62\u001b[0m             \u001b[0mcomplete_data\u001b[0m\u001b[0;34m.\u001b[0m\u001b[0mappend\u001b[0m\u001b[0;34m(\u001b[0m\u001b[0;34m[\u001b[0m\u001b[0minp\u001b[0m\u001b[0;34m,\u001b[0m \u001b[0moutp\u001b[0m\u001b[0;34m]\u001b[0m\u001b[0;34m)\u001b[0m\u001b[0;34m\u001b[0m\u001b[0m\n\u001b[1;32m     63\u001b[0m         \u001b[0mnp\u001b[0m\u001b[0;34m.\u001b[0m\u001b[0msave\u001b[0m\u001b[0;34m(\u001b[0m\u001b[0mself\u001b[0m\u001b[0;34m.\u001b[0m\u001b[0mdata_path\u001b[0m\u001b[0;34m,\u001b[0m \u001b[0mcomplete_data\u001b[0m\u001b[0;34m)\u001b[0m\u001b[0;34m\u001b[0m\u001b[0m\n",
      "\u001b[0;31mKeyboardInterrupt\u001b[0m: "
     ]
    }
   ],
   "source": [
    "data_loader = SKTDataLoader('data/input_complete_split.txt','data/output_complete_split.txt',batch_size=3,seq_length=10)"
   ]
  },
  {
   "cell_type": "code",
   "execution_count": 4,
   "metadata": {
    "collapsed": false
   },
   "outputs": [],
   "source": [
    "batch_inp, batch_outp = data_loader.next_batch()"
   ]
  },
  {
   "cell_type": "code",
   "execution_count": 5,
   "metadata": {
    "collapsed": false,
    "scrolled": true
   },
   "outputs": [
    {
     "data": {
      "text/plain": [
       "(10, 3)"
      ]
     },
     "execution_count": 5,
     "metadata": {},
     "output_type": "execute_result"
    }
   ],
   "source": [
    "batch_inp.shape"
   ]
  },
  {
   "cell_type": "code",
   "execution_count": null,
   "metadata": {
    "collapsed": true
   },
   "outputs": [],
   "source": []
  },
  {
   "cell_type": "code",
   "execution_count": 16,
   "metadata": {
    "collapsed": false
   },
   "outputs": [
    {
     "name": "stdout",
     "output_type": "stream",
     "text": [
      "rudra\n",
      "agni\n"
     ]
    }
   ],
   "source": [
    "temp = np.swapaxes(batch_outp, 0, 1)\n",
    "for x in temp[2]:\n",
    "    if x != 23118:\n",
    "        print data_loader.idx2word[x]"
   ]
  },
  {
   "cell_type": "code",
   "execution_count": 17,
   "metadata": {
    "collapsed": false
   },
   "outputs": [
    {
     "name": "stdout",
     "output_type": "stream",
     "text": [
      "rudrAgniM\n"
     ]
    }
   ],
   "source": [
    "temp = np.swapaxes(batch_inp, 0, 1)\n",
    "for x in temp[2]:\n",
    "    if x != 23118:\n",
    "        print data_loader.idx2word[x]"
   ]
  },
  {
   "cell_type": "code",
   "execution_count": null,
   "metadata": {
    "collapsed": true
   },
   "outputs": [],
   "source": []
  }
 ],
 "metadata": {
  "kernelspec": {
   "display_name": "Python 2",
   "language": "python",
   "name": "python2"
  },
  "language_info": {
   "codemirror_mode": {
    "name": "ipython",
    "version": 2
   },
   "file_extension": ".py",
   "mimetype": "text/x-python",
   "name": "python",
   "nbconvert_exporter": "python",
   "pygments_lexer": "ipython2",
   "version": "2.7.5"
  }
 },
 "nbformat": 4,
 "nbformat_minor": 1
}
